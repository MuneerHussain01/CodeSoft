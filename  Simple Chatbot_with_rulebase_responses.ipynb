{
  "nbformat": 4,
  "nbformat_minor": 0,
  "metadata": {
    "colab": {
      "provenance": [],
      "authorship_tag": "ABX9TyNBFKSNbwtgaD3sErZNQH0z",
      "include_colab_link": true
    },
    "kernelspec": {
      "name": "python3",
      "display_name": "Python 3"
    },
    "language_info": {
      "name": "python"
    },
    "accelerator": "TPU"
  },
  "cells": [
    {
      "cell_type": "markdown",
      "metadata": {
        "id": "view-in-github",
        "colab_type": "text"
      },
      "source": [
        "<a href=\"https://colab.research.google.com/github/MuneerHussain01/CodeSoft/blob/main/%20Simple%20Chatbot_with_rulebase_responses.ipynb\" target=\"_parent\"><img src=\"https://colab.research.google.com/assets/colab-badge.svg\" alt=\"Open In Colab\"/></a>"
      ]
    },
    {
      "cell_type": "code",
      "source": [
        "def chatbot_response(user_input):\n",
        "  #Build in rules and responses\n",
        "  responses = {\n",
        "      \"hi\":\"Hello!Welcome to the movies chatbot.\",\n",
        "      \"give me some movies and seasons name\" : \"Movies :\\n The Underdoggs, Poor Things, \\n Badland Hunters,  Oppenheimer, \\n Oppenheimer, \\n\\n Seasons :\\n A Town Without Seasons,  \\n The Bachelor,  The Greatest Seasons - Ever!\",\n",
        "      \"the underdoggs\" : \"Click on this link : https://gomovies.sx/movie/watch-the-underdoggs-gomovies-105625\",\n",
        "      \"poor things\" : \"Click On this link : https://gomovies.sx/movie/watch-poor-things-gomovies-103753\",\n",
        "      \"oppenheimer\" : \"Click on this link : https://gomovies.sx/movie/watch-oppenheimer-gomovies-98446\",\n",
        "      \"a town without seasons\" : \"Click on this link : https://gomovies.sx/tv/watch-a-town-without-seasons-gomovies-99334\",\n",
        "      \"a man for all seasons\" : \"Click on this link : https://gomovies.sx/movie/watch-a-man-for-all-seasons-gomovies-10191\",\n",
        "      \"the greatest seasons - Ever!\" : \"Click on this link : https://gomovies.sx/tv/watch-the-bachelor-the-greatest-seasons-ever-gomovies-61674\",\n",
        "  }\n",
        "\n",
        "  #change the user input into lowercase so that their will be no case insensetive\n",
        "\n",
        "  user_input = user_input.lower()\n",
        "\n",
        "  #checking the user input that match the predefined responses\n",
        "\n",
        "  for pattern, response in responses.items():\n",
        "    if pattern == user_input:\n",
        "      return response\n",
        "\n",
        "  #if predefined does't match the return default\n",
        "\n",
        "  return \"Sorry, I can't uderstand your response,try another please.\"\n",
        "\n",
        "\n",
        "  #main loop to interact a chatbot\n",
        "\n",
        "while True:\n",
        "  user_input = input(\"You: \")\n",
        "  if user_input.lower() == \"exit\":\n",
        "    print(\"Chatbot : Goodbye\")\n",
        "    break\n",
        "  else:\n",
        "    print(\"Chatbot :\", chatbot_response(user_input))"
      ],
      "metadata": {
        "colab": {
          "base_uri": "https://localhost:8080/"
        },
        "id": "29x3u_p1wtC9",
        "outputId": "632f4abf-0cf2-4959-bbd7-16a7fe41d898"
      },
      "execution_count": null,
      "outputs": [
        {
          "output_type": "stream",
          "name": "stdout",
          "text": [
            "You: hi\n",
            "Chatbot : Hello!Welcome to the movies chatbot.\n",
            "You: give me some movies and seasons name\n",
            "Chatbot : Movies :\n",
            " The Underdoggs, Poor Things, \n",
            " Badland Hunters,  Oppenheimer, \n",
            " Oppenheimer, \n",
            "\n",
            " Seasons :\n",
            " A Town Without Seasons,  \n",
            " The Bachelor,  The Greatest Seasons - Ever!\n",
            "You: poor things\n",
            "Chatbot : Click On this link : https://gomovies.sx/movie/watch-poor-things-gomovies-103753\n",
            "You: the underdoggs\n",
            "Chatbot : Click on this link : https://gomovies.sx/movie/watch-the-underdoggs-gomovies-105625\n",
            "You: badland hunters\n",
            "Chatbot : Sorry, I can't uderstand your response,try another please.\n",
            "You: a town without seasons\n",
            "Chatbot : Click on this link : https://gomovies.sx/tv/watch-a-town-without-seasons-gomovies-99334\n"
          ]
        }
      ]
    }
  ]
}